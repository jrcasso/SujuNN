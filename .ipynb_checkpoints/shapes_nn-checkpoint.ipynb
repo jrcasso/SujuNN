{
 "cells": [
  {
   "cell_type": "markdown",
   "metadata": {},
   "source": [
    " ### Generate training and testing data"
   ]
  },
  {
   "cell_type": "code",
   "execution_count": 1,
   "metadata": {
    "scrolled": true
   },
   "outputs": [],
   "source": [
    "#!/usr/bin/env python\n",
    "# coding: utf-8\n",
    "from tensorflow.keras.layers import Conv2D, MaxPooling2D,Flatten,Dense\n",
    "from tensorflow.keras.models import Sequential\n",
    "from PIL import Image\n",
    "import tensorflow as tf\n",
    "import numpy as np\n",
    "import pprint as pp\n",
    "\n",
    "shape = ['triangle', 'square', 'circle', 'star']\n",
    "inputArray = []\n",
    "outputArray = []\n",
    "testingArray = []\n",
    "output = []\n",
    "num = 3000\n",
    "\n",
    "# Generate model training data\n",
    "for i in range(num):\n",
    "    oneHot = np.zeros(4)\n",
    "    oneHot[i % 4] = 1\n",
    "    imageFile = Image.open(\"./shapes/\" + shape[i % 4] + \"/\" + str(i + 1) + \".png\")\n",
    "    inputArray.append((tf.keras.preprocessing.image.img_to_array(imageFile) / 255.0))\n",
    "    outputArray.append(oneHot)\n",
    "\n",
    "# Generate test data and null prediction value\n",
    "for i in range(num + 50, num + 250):\n",
    "    path = \"./shapes/\" + shape[i % 4] + \"/\" + str(i + 1) + \".png\"\n",
    "    output.append([path, None])\n",
    "    imageFile = Image.open(path)\n",
    "    testingArray.append((tf.keras.preprocessing.image.img_to_array(imageFile) / 255.0))"
   ]
  },
  {
   "cell_type": "markdown",
   "metadata": {},
   "source": [
    " ### Define neural network model"
   ]
  },
  {
   "cell_type": "code",
   "execution_count": 2,
   "metadata": {
    "scrolled": true
   },
   "outputs": [
    {
     "name": "stderr",
     "output_type": "stream",
     "text": [
      "WARNING: Logging before flag parsing goes to stderr.\n",
      "W0720 14:34:27.628037  1408 deprecation.py:506] From c:\\users\\jaures\\documents\\workspace\\sujunn\\env\\lib\\site-packages\\tensorflow\\python\\ops\\init_ops.py:1251: calling VarianceScaling.__init__ (from tensorflow.python.ops.init_ops) with dtype is deprecated and will be removed in a future version.\n",
      "Instructions for updating:\n",
      "Call initializer instance with the dtype argument instead of passing it to the constructor\n"
     ]
    },
    {
     "name": "stdout",
     "output_type": "stream",
     "text": [
      "Model: \"sequential\"\n",
      "_________________________________________________________________\n",
      "Layer (type)                 Output Shape              Param #   \n",
      "=================================================================\n",
      "conv2d (Conv2D)              (None, 198, 198, 32)      320       \n",
      "_________________________________________________________________\n",
      "max_pooling2d (MaxPooling2D) (None, 24, 24, 32)        0         \n",
      "_________________________________________________________________\n",
      "flatten (Flatten)            (None, 18432)             0         \n",
      "_________________________________________________________________\n",
      "dense (Dense)                (None, 128)               2359424   \n",
      "_________________________________________________________________\n",
      "dense_1 (Dense)              (None, 4)                 516       \n",
      "=================================================================\n",
      "Total params: 2,360,260\n",
      "Trainable params: 2,360,260\n",
      "Non-trainable params: 0\n",
      "_________________________________________________________________\n"
     ]
    }
   ],
   "source": [
    "model = Sequential()\n",
    "model.add(Conv2D(32, (3, 3), input_shape = (200, 200, 1), activation='relu'))\n",
    "model.add(MaxPooling2D(pool_size = (8, 8)))\n",
    "model.add(Flatten())\n",
    "model.add(Dense(units = 128, activation = 'sigmoid'))\n",
    "model.add(Dense(units = 4, activation = 'sigmoid'))\n",
    "model.summary()"
   ]
  },
  {
   "cell_type": "markdown",
   "metadata": {},
   "source": [
    "### Compile and fit model"
   ]
  },
  {
   "cell_type": "code",
   "execution_count": 11,
   "metadata": {},
   "outputs": [
    {
     "ename": "ValueError",
     "evalue": "Unknown loss function:mean_square_error",
     "output_type": "error",
     "traceback": [
      "\u001b[1;31m---------------------------------------------------------------------------\u001b[0m",
      "\u001b[1;31mValueError\u001b[0m                                Traceback (most recent call last)",
      "\u001b[1;32m<ipython-input-11-33308e1f1a04>\u001b[0m in \u001b[0;36m<module>\u001b[1;34m\u001b[0m\n\u001b[0;32m      1\u001b[0m \u001b[1;31m# model.compile(optimizer='adam', loss='categorical_crossentropy', metrics=['accuracy'])\u001b[0m\u001b[1;33m\u001b[0m\u001b[1;33m\u001b[0m\u001b[1;33m\u001b[0m\u001b[0m\n\u001b[1;32m----> 2\u001b[1;33m \u001b[0mmodel\u001b[0m\u001b[1;33m.\u001b[0m\u001b[0mcompile\u001b[0m\u001b[1;33m(\u001b[0m\u001b[0moptimizer\u001b[0m\u001b[1;33m=\u001b[0m\u001b[1;34m'adam'\u001b[0m\u001b[1;33m,\u001b[0m \u001b[0mloss\u001b[0m\u001b[1;33m=\u001b[0m\u001b[1;34m'mean_square_error'\u001b[0m\u001b[1;33m,\u001b[0m \u001b[0mmetrics\u001b[0m\u001b[1;33m=\u001b[0m\u001b[1;33m[\u001b[0m\u001b[1;34m'accuracy'\u001b[0m\u001b[1;33m]\u001b[0m\u001b[1;33m)\u001b[0m\u001b[1;33m\u001b[0m\u001b[1;33m\u001b[0m\u001b[0m\n\u001b[0m\u001b[0;32m      3\u001b[0m \u001b[0mmodel\u001b[0m\u001b[1;33m.\u001b[0m\u001b[0mfit\u001b[0m\u001b[1;33m(\u001b[0m\u001b[0mnp\u001b[0m\u001b[1;33m.\u001b[0m\u001b[0marray\u001b[0m\u001b[1;33m(\u001b[0m\u001b[0minputArray\u001b[0m\u001b[1;33m)\u001b[0m\u001b[1;33m,\u001b[0m \u001b[0mnp\u001b[0m\u001b[1;33m.\u001b[0m\u001b[0marray\u001b[0m\u001b[1;33m(\u001b[0m\u001b[0moutputArray\u001b[0m\u001b[1;33m)\u001b[0m\u001b[1;33m,\u001b[0m \u001b[0mbatch_size\u001b[0m \u001b[1;33m=\u001b[0m \u001b[1;36m32\u001b[0m\u001b[1;33m,\u001b[0m \u001b[0mepochs\u001b[0m \u001b[1;33m=\u001b[0m \u001b[1;36m5\u001b[0m\u001b[1;33m,\u001b[0m \u001b[0mvalidation_split\u001b[0m \u001b[1;33m=\u001b[0m \u001b[1;36m0.1\u001b[0m\u001b[1;33m)\u001b[0m\u001b[1;33m\u001b[0m\u001b[1;33m\u001b[0m\u001b[0m\n",
      "\u001b[1;32mc:\\users\\jaures\\documents\\workspace\\sujunn\\env\\lib\\site-packages\\tensorflow\\python\\training\\tracking\\base.py\u001b[0m in \u001b[0;36m_method_wrapper\u001b[1;34m(self, *args, **kwargs)\u001b[0m\n\u001b[0;32m    455\u001b[0m     \u001b[0mself\u001b[0m\u001b[1;33m.\u001b[0m\u001b[0m_self_setattr_tracking\u001b[0m \u001b[1;33m=\u001b[0m \u001b[1;32mFalse\u001b[0m  \u001b[1;31m# pylint: disable=protected-access\u001b[0m\u001b[1;33m\u001b[0m\u001b[1;33m\u001b[0m\u001b[0m\n\u001b[0;32m    456\u001b[0m     \u001b[1;32mtry\u001b[0m\u001b[1;33m:\u001b[0m\u001b[1;33m\u001b[0m\u001b[1;33m\u001b[0m\u001b[0m\n\u001b[1;32m--> 457\u001b[1;33m       \u001b[0mresult\u001b[0m \u001b[1;33m=\u001b[0m \u001b[0mmethod\u001b[0m\u001b[1;33m(\u001b[0m\u001b[0mself\u001b[0m\u001b[1;33m,\u001b[0m \u001b[1;33m*\u001b[0m\u001b[0margs\u001b[0m\u001b[1;33m,\u001b[0m \u001b[1;33m**\u001b[0m\u001b[0mkwargs\u001b[0m\u001b[1;33m)\u001b[0m\u001b[1;33m\u001b[0m\u001b[1;33m\u001b[0m\u001b[0m\n\u001b[0m\u001b[0;32m    458\u001b[0m     \u001b[1;32mfinally\u001b[0m\u001b[1;33m:\u001b[0m\u001b[1;33m\u001b[0m\u001b[1;33m\u001b[0m\u001b[0m\n\u001b[0;32m    459\u001b[0m       \u001b[0mself\u001b[0m\u001b[1;33m.\u001b[0m\u001b[0m_self_setattr_tracking\u001b[0m \u001b[1;33m=\u001b[0m \u001b[0mprevious_value\u001b[0m  \u001b[1;31m# pylint: disable=protected-access\u001b[0m\u001b[1;33m\u001b[0m\u001b[1;33m\u001b[0m\u001b[0m\n",
      "\u001b[1;32mc:\\users\\jaures\\documents\\workspace\\sujunn\\env\\lib\\site-packages\\tensorflow\\python\\keras\\engine\\training.py\u001b[0m in \u001b[0;36mcompile\u001b[1;34m(self, optimizer, loss, metrics, loss_weights, sample_weight_mode, weighted_metrics, target_tensors, distribute, **kwargs)\u001b[0m\n\u001b[0;32m    298\u001b[0m     \u001b[1;31m# Prepare list of loss functions, same size of model outputs.\u001b[0m\u001b[1;33m\u001b[0m\u001b[1;33m\u001b[0m\u001b[1;33m\u001b[0m\u001b[0m\n\u001b[0;32m    299\u001b[0m     self.loss_functions = training_utils.prepare_loss_functions(\n\u001b[1;32m--> 300\u001b[1;33m         self.loss, self.output_names)\n\u001b[0m\u001b[0;32m    301\u001b[0m \u001b[1;33m\u001b[0m\u001b[0m\n\u001b[0;32m    302\u001b[0m     \u001b[0mtarget_tensors\u001b[0m \u001b[1;33m=\u001b[0m \u001b[0mself\u001b[0m\u001b[1;33m.\u001b[0m\u001b[0m_process_target_tensor_for_compile\u001b[0m\u001b[1;33m(\u001b[0m\u001b[0mtarget_tensors\u001b[0m\u001b[1;33m)\u001b[0m\u001b[1;33m\u001b[0m\u001b[1;33m\u001b[0m\u001b[0m\n",
      "\u001b[1;32mc:\\users\\jaures\\documents\\workspace\\sujunn\\env\\lib\\site-packages\\tensorflow\\python\\keras\\engine\\training_utils.py\u001b[0m in \u001b[0;36mprepare_loss_functions\u001b[1;34m(loss, output_names)\u001b[0m\n\u001b[0;32m   1102\u001b[0m       \u001b[0mloss_functions\u001b[0m\u001b[1;33m.\u001b[0m\u001b[0mappend\u001b[0m\u001b[1;33m(\u001b[0m\u001b[0mget_loss_function\u001b[0m\u001b[1;33m(\u001b[0m\u001b[0mloss\u001b[0m\u001b[1;33m.\u001b[0m\u001b[0mget\u001b[0m\u001b[1;33m(\u001b[0m\u001b[0mname\u001b[0m\u001b[1;33m,\u001b[0m \u001b[1;32mNone\u001b[0m\u001b[1;33m)\u001b[0m\u001b[1;33m)\u001b[0m\u001b[1;33m)\u001b[0m\u001b[1;33m\u001b[0m\u001b[1;33m\u001b[0m\u001b[0m\n\u001b[0;32m   1103\u001b[0m   \u001b[1;32melif\u001b[0m \u001b[0misinstance\u001b[0m\u001b[1;33m(\u001b[0m\u001b[0mloss\u001b[0m\u001b[1;33m,\u001b[0m \u001b[0msix\u001b[0m\u001b[1;33m.\u001b[0m\u001b[0mstring_types\u001b[0m\u001b[1;33m)\u001b[0m\u001b[1;33m:\u001b[0m\u001b[1;33m\u001b[0m\u001b[1;33m\u001b[0m\u001b[0m\n\u001b[1;32m-> 1104\u001b[1;33m     \u001b[0mloss_functions\u001b[0m \u001b[1;33m=\u001b[0m \u001b[1;33m[\u001b[0m\u001b[0mget_loss_function\u001b[0m\u001b[1;33m(\u001b[0m\u001b[0mloss\u001b[0m\u001b[1;33m)\u001b[0m \u001b[1;32mfor\u001b[0m \u001b[0m_\u001b[0m \u001b[1;32min\u001b[0m \u001b[0moutput_names\u001b[0m\u001b[1;33m]\u001b[0m\u001b[1;33m\u001b[0m\u001b[1;33m\u001b[0m\u001b[0m\n\u001b[0m\u001b[0;32m   1105\u001b[0m   \u001b[1;32melif\u001b[0m \u001b[0misinstance\u001b[0m\u001b[1;33m(\u001b[0m\u001b[0mloss\u001b[0m\u001b[1;33m,\u001b[0m \u001b[0mcollections\u001b[0m\u001b[1;33m.\u001b[0m\u001b[0mSequence\u001b[0m\u001b[1;33m)\u001b[0m\u001b[1;33m:\u001b[0m\u001b[1;33m\u001b[0m\u001b[1;33m\u001b[0m\u001b[0m\n\u001b[0;32m   1106\u001b[0m     \u001b[1;32mif\u001b[0m \u001b[0mlen\u001b[0m\u001b[1;33m(\u001b[0m\u001b[0mloss\u001b[0m\u001b[1;33m)\u001b[0m \u001b[1;33m!=\u001b[0m \u001b[0mlen\u001b[0m\u001b[1;33m(\u001b[0m\u001b[0moutput_names\u001b[0m\u001b[1;33m)\u001b[0m\u001b[1;33m:\u001b[0m\u001b[1;33m\u001b[0m\u001b[1;33m\u001b[0m\u001b[0m\n",
      "\u001b[1;32mc:\\users\\jaures\\documents\\workspace\\sujunn\\env\\lib\\site-packages\\tensorflow\\python\\keras\\engine\\training_utils.py\u001b[0m in \u001b[0;36m<listcomp>\u001b[1;34m(.0)\u001b[0m\n\u001b[0;32m   1102\u001b[0m       \u001b[0mloss_functions\u001b[0m\u001b[1;33m.\u001b[0m\u001b[0mappend\u001b[0m\u001b[1;33m(\u001b[0m\u001b[0mget_loss_function\u001b[0m\u001b[1;33m(\u001b[0m\u001b[0mloss\u001b[0m\u001b[1;33m.\u001b[0m\u001b[0mget\u001b[0m\u001b[1;33m(\u001b[0m\u001b[0mname\u001b[0m\u001b[1;33m,\u001b[0m \u001b[1;32mNone\u001b[0m\u001b[1;33m)\u001b[0m\u001b[1;33m)\u001b[0m\u001b[1;33m)\u001b[0m\u001b[1;33m\u001b[0m\u001b[1;33m\u001b[0m\u001b[0m\n\u001b[0;32m   1103\u001b[0m   \u001b[1;32melif\u001b[0m \u001b[0misinstance\u001b[0m\u001b[1;33m(\u001b[0m\u001b[0mloss\u001b[0m\u001b[1;33m,\u001b[0m \u001b[0msix\u001b[0m\u001b[1;33m.\u001b[0m\u001b[0mstring_types\u001b[0m\u001b[1;33m)\u001b[0m\u001b[1;33m:\u001b[0m\u001b[1;33m\u001b[0m\u001b[1;33m\u001b[0m\u001b[0m\n\u001b[1;32m-> 1104\u001b[1;33m     \u001b[0mloss_functions\u001b[0m \u001b[1;33m=\u001b[0m \u001b[1;33m[\u001b[0m\u001b[0mget_loss_function\u001b[0m\u001b[1;33m(\u001b[0m\u001b[0mloss\u001b[0m\u001b[1;33m)\u001b[0m \u001b[1;32mfor\u001b[0m \u001b[0m_\u001b[0m \u001b[1;32min\u001b[0m \u001b[0moutput_names\u001b[0m\u001b[1;33m]\u001b[0m\u001b[1;33m\u001b[0m\u001b[1;33m\u001b[0m\u001b[0m\n\u001b[0m\u001b[0;32m   1105\u001b[0m   \u001b[1;32melif\u001b[0m \u001b[0misinstance\u001b[0m\u001b[1;33m(\u001b[0m\u001b[0mloss\u001b[0m\u001b[1;33m,\u001b[0m \u001b[0mcollections\u001b[0m\u001b[1;33m.\u001b[0m\u001b[0mSequence\u001b[0m\u001b[1;33m)\u001b[0m\u001b[1;33m:\u001b[0m\u001b[1;33m\u001b[0m\u001b[1;33m\u001b[0m\u001b[0m\n\u001b[0;32m   1106\u001b[0m     \u001b[1;32mif\u001b[0m \u001b[0mlen\u001b[0m\u001b[1;33m(\u001b[0m\u001b[0mloss\u001b[0m\u001b[1;33m)\u001b[0m \u001b[1;33m!=\u001b[0m \u001b[0mlen\u001b[0m\u001b[1;33m(\u001b[0m\u001b[0moutput_names\u001b[0m\u001b[1;33m)\u001b[0m\u001b[1;33m:\u001b[0m\u001b[1;33m\u001b[0m\u001b[1;33m\u001b[0m\u001b[0m\n",
      "\u001b[1;32mc:\\users\\jaures\\documents\\workspace\\sujunn\\env\\lib\\site-packages\\tensorflow\\python\\keras\\engine\\training_utils.py\u001b[0m in \u001b[0;36mget_loss_function\u001b[1;34m(loss)\u001b[0m\n\u001b[0;32m    891\u001b[0m   \u001b[1;31m# Wrap loss function with signature `(y_true, y_pred, **kwargs)`\u001b[0m\u001b[1;33m\u001b[0m\u001b[1;33m\u001b[0m\u001b[1;33m\u001b[0m\u001b[0m\n\u001b[0;32m    892\u001b[0m   \u001b[1;31m# in `LossFunctionWrapper` class.\u001b[0m\u001b[1;33m\u001b[0m\u001b[1;33m\u001b[0m\u001b[1;33m\u001b[0m\u001b[0m\n\u001b[1;32m--> 893\u001b[1;33m   \u001b[0mloss_fn\u001b[0m \u001b[1;33m=\u001b[0m \u001b[0mlosses\u001b[0m\u001b[1;33m.\u001b[0m\u001b[0mget\u001b[0m\u001b[1;33m(\u001b[0m\u001b[0mloss\u001b[0m\u001b[1;33m)\u001b[0m\u001b[1;33m\u001b[0m\u001b[1;33m\u001b[0m\u001b[0m\n\u001b[0m\u001b[0;32m    894\u001b[0m \u001b[1;33m\u001b[0m\u001b[0m\n\u001b[0;32m    895\u001b[0m   \u001b[1;31m# For losses which are given as strings/functions in the compile API,\u001b[0m\u001b[1;33m\u001b[0m\u001b[1;33m\u001b[0m\u001b[1;33m\u001b[0m\u001b[0m\n",
      "\u001b[1;32mc:\\users\\jaures\\documents\\workspace\\sujunn\\env\\lib\\site-packages\\tensorflow\\python\\keras\\losses.py\u001b[0m in \u001b[0;36mget\u001b[1;34m(identifier)\u001b[0m\n\u001b[0;32m   1098\u001b[0m   \u001b[1;32mif\u001b[0m \u001b[0misinstance\u001b[0m\u001b[1;33m(\u001b[0m\u001b[0midentifier\u001b[0m\u001b[1;33m,\u001b[0m \u001b[0msix\u001b[0m\u001b[1;33m.\u001b[0m\u001b[0mstring_types\u001b[0m\u001b[1;33m)\u001b[0m\u001b[1;33m:\u001b[0m\u001b[1;33m\u001b[0m\u001b[1;33m\u001b[0m\u001b[0m\n\u001b[0;32m   1099\u001b[0m     \u001b[0midentifier\u001b[0m \u001b[1;33m=\u001b[0m \u001b[0mstr\u001b[0m\u001b[1;33m(\u001b[0m\u001b[0midentifier\u001b[0m\u001b[1;33m)\u001b[0m\u001b[1;33m\u001b[0m\u001b[1;33m\u001b[0m\u001b[0m\n\u001b[1;32m-> 1100\u001b[1;33m     \u001b[1;32mreturn\u001b[0m \u001b[0mdeserialize\u001b[0m\u001b[1;33m(\u001b[0m\u001b[0midentifier\u001b[0m\u001b[1;33m)\u001b[0m\u001b[1;33m\u001b[0m\u001b[1;33m\u001b[0m\u001b[0m\n\u001b[0m\u001b[0;32m   1101\u001b[0m   \u001b[1;32mif\u001b[0m \u001b[0misinstance\u001b[0m\u001b[1;33m(\u001b[0m\u001b[0midentifier\u001b[0m\u001b[1;33m,\u001b[0m \u001b[0mdict\u001b[0m\u001b[1;33m)\u001b[0m\u001b[1;33m:\u001b[0m\u001b[1;33m\u001b[0m\u001b[1;33m\u001b[0m\u001b[0m\n\u001b[0;32m   1102\u001b[0m     \u001b[1;32mreturn\u001b[0m \u001b[0mdeserialize\u001b[0m\u001b[1;33m(\u001b[0m\u001b[0midentifier\u001b[0m\u001b[1;33m)\u001b[0m\u001b[1;33m\u001b[0m\u001b[1;33m\u001b[0m\u001b[0m\n",
      "\u001b[1;32mc:\\users\\jaures\\documents\\workspace\\sujunn\\env\\lib\\site-packages\\tensorflow\\python\\keras\\losses.py\u001b[0m in \u001b[0;36mdeserialize\u001b[1;34m(name, custom_objects)\u001b[0m\n\u001b[0;32m   1089\u001b[0m       \u001b[0mmodule_objects\u001b[0m\u001b[1;33m=\u001b[0m\u001b[0mglobals\u001b[0m\u001b[1;33m(\u001b[0m\u001b[1;33m)\u001b[0m\u001b[1;33m,\u001b[0m\u001b[1;33m\u001b[0m\u001b[1;33m\u001b[0m\u001b[0m\n\u001b[0;32m   1090\u001b[0m       \u001b[0mcustom_objects\u001b[0m\u001b[1;33m=\u001b[0m\u001b[0mcustom_objects\u001b[0m\u001b[1;33m,\u001b[0m\u001b[1;33m\u001b[0m\u001b[1;33m\u001b[0m\u001b[0m\n\u001b[1;32m-> 1091\u001b[1;33m       printable_module_name='loss function')\n\u001b[0m\u001b[0;32m   1092\u001b[0m \u001b[1;33m\u001b[0m\u001b[0m\n\u001b[0;32m   1093\u001b[0m \u001b[1;33m\u001b[0m\u001b[0m\n",
      "\u001b[1;32mc:\\users\\jaures\\documents\\workspace\\sujunn\\env\\lib\\site-packages\\tensorflow\\python\\keras\\utils\\generic_utils.py\u001b[0m in \u001b[0;36mdeserialize_keras_object\u001b[1;34m(identifier, module_objects, custom_objects, printable_module_name)\u001b[0m\n\u001b[0;32m    209\u001b[0m       \u001b[0mobj\u001b[0m \u001b[1;33m=\u001b[0m \u001b[0mmodule_objects\u001b[0m\u001b[1;33m.\u001b[0m\u001b[0mget\u001b[0m\u001b[1;33m(\u001b[0m\u001b[0mobject_name\u001b[0m\u001b[1;33m)\u001b[0m\u001b[1;33m\u001b[0m\u001b[1;33m\u001b[0m\u001b[0m\n\u001b[0;32m    210\u001b[0m       \u001b[1;32mif\u001b[0m \u001b[0mobj\u001b[0m \u001b[1;32mis\u001b[0m \u001b[1;32mNone\u001b[0m\u001b[1;33m:\u001b[0m\u001b[1;33m\u001b[0m\u001b[1;33m\u001b[0m\u001b[0m\n\u001b[1;32m--> 211\u001b[1;33m         \u001b[1;32mraise\u001b[0m \u001b[0mValueError\u001b[0m\u001b[1;33m(\u001b[0m\u001b[1;34m'Unknown '\u001b[0m \u001b[1;33m+\u001b[0m \u001b[0mprintable_module_name\u001b[0m \u001b[1;33m+\u001b[0m \u001b[1;34m':'\u001b[0m \u001b[1;33m+\u001b[0m \u001b[0mobject_name\u001b[0m\u001b[1;33m)\u001b[0m\u001b[1;33m\u001b[0m\u001b[1;33m\u001b[0m\u001b[0m\n\u001b[0m\u001b[0;32m    212\u001b[0m     \u001b[1;31m# Classes passed by name are instantiated with no args, functions are\u001b[0m\u001b[1;33m\u001b[0m\u001b[1;33m\u001b[0m\u001b[1;33m\u001b[0m\u001b[0m\n\u001b[0;32m    213\u001b[0m     \u001b[1;31m# returned as-is.\u001b[0m\u001b[1;33m\u001b[0m\u001b[1;33m\u001b[0m\u001b[1;33m\u001b[0m\u001b[0m\n",
      "\u001b[1;31mValueError\u001b[0m: Unknown loss function:mean_square_error"
     ]
    }
   ],
   "source": [
    "# model.compile(optimizer='adam', loss='categorical_crossentropy', metrics=['accuracy'])\n",
    "model.compile(optimizer='adam', loss='mean_squared_error', metrics=['accuracy'])\n",
    "model.fit(np.array(inputArray), np.array(outputArray), batch_size = 32, epochs = 5, validation_split = 0.1)"
   ]
  },
  {
   "cell_type": "markdown",
   "metadata": {},
   "source": [
    "### Predict using finished model"
   ]
  },
  {
   "cell_type": "code",
   "execution_count": 4,
   "metadata": {},
   "outputs": [],
   "source": [
    "prediction = model.predict(np.array(testingArray))"
   ]
  },
  {
   "cell_type": "markdown",
   "metadata": {},
   "source": [
    "### Parse predictions"
   ]
  },
  {
   "cell_type": "code",
   "execution_count": 5,
   "metadata": {},
   "outputs": [
    {
     "name": "stdout",
     "output_type": "stream",
     "text": [
      "[['./shapes/circle/3051.png', 'circle'],\n",
      " ['./shapes/star/3052.png', 'star'],\n",
      " ['./shapes/triangle/3053.png', 'triangle'],\n",
      " ['./shapes/square/3054.png', 'square'],\n",
      " ['./shapes/circle/3055.png', 'circle'],\n",
      " ['./shapes/star/3056.png', 'star'],\n",
      " ['./shapes/triangle/3057.png', 'triangle'],\n",
      " ['./shapes/square/3058.png', 'square'],\n",
      " ['./shapes/circle/3059.png', 'circle'],\n",
      " ['./shapes/star/3060.png', 'star'],\n",
      " ['./shapes/triangle/3061.png', 'triangle'],\n",
      " ['./shapes/square/3062.png', 'square'],\n",
      " ['./shapes/circle/3063.png', 'circle'],\n",
      " ['./shapes/star/3064.png', 'star'],\n",
      " ['./shapes/triangle/3065.png', 'triangle'],\n",
      " ['./shapes/square/3066.png', 'square'],\n",
      " ['./shapes/circle/3067.png', 'circle'],\n",
      " ['./shapes/star/3068.png', 'star'],\n",
      " ['./shapes/triangle/3069.png', 'triangle'],\n",
      " ['./shapes/square/3070.png', 'square'],\n",
      " ['./shapes/circle/3071.png', 'circle'],\n",
      " ['./shapes/star/3072.png', 'star'],\n",
      " ['./shapes/triangle/3073.png', 'triangle'],\n",
      " ['./shapes/square/3074.png', 'square'],\n",
      " ['./shapes/circle/3075.png', 'circle'],\n",
      " ['./shapes/star/3076.png', 'star'],\n",
      " ['./shapes/triangle/3077.png', 'triangle'],\n",
      " ['./shapes/square/3078.png', 'square'],\n",
      " ['./shapes/circle/3079.png', 'circle'],\n",
      " ['./shapes/star/3080.png', 'star'],\n",
      " ['./shapes/triangle/3081.png', 'triangle'],\n",
      " ['./shapes/square/3082.png', 'square'],\n",
      " ['./shapes/circle/3083.png', 'circle'],\n",
      " ['./shapes/star/3084.png', 'star'],\n",
      " ['./shapes/triangle/3085.png', 'triangle'],\n",
      " ['./shapes/square/3086.png', 'square'],\n",
      " ['./shapes/circle/3087.png', 'circle'],\n",
      " ['./shapes/star/3088.png', 'star'],\n",
      " ['./shapes/triangle/3089.png', 'triangle'],\n",
      " ['./shapes/square/3090.png', 'square'],\n",
      " ['./shapes/circle/3091.png', 'circle'],\n",
      " ['./shapes/star/3092.png', 'star'],\n",
      " ['./shapes/triangle/3093.png', 'triangle'],\n",
      " ['./shapes/square/3094.png', 'square'],\n",
      " ['./shapes/circle/3095.png', 'circle'],\n",
      " ['./shapes/star/3096.png', 'star'],\n",
      " ['./shapes/triangle/3097.png', 'triangle'],\n",
      " ['./shapes/square/3098.png', 'square'],\n",
      " ['./shapes/circle/3099.png', 'circle'],\n",
      " ['./shapes/star/3100.png', 'star'],\n",
      " ['./shapes/triangle/3101.png', 'triangle'],\n",
      " ['./shapes/square/3102.png', 'square'],\n",
      " ['./shapes/circle/3103.png', 'circle'],\n",
      " ['./shapes/star/3104.png', 'star'],\n",
      " ['./shapes/triangle/3105.png', 'triangle'],\n",
      " ['./shapes/square/3106.png', 'square'],\n",
      " ['./shapes/circle/3107.png', 'circle'],\n",
      " ['./shapes/star/3108.png', 'star'],\n",
      " ['./shapes/triangle/3109.png', 'triangle'],\n",
      " ['./shapes/square/3110.png', 'square'],\n",
      " ['./shapes/circle/3111.png', 'circle'],\n",
      " ['./shapes/star/3112.png', 'star'],\n",
      " ['./shapes/triangle/3113.png', 'triangle'],\n",
      " ['./shapes/square/3114.png', 'square'],\n",
      " ['./shapes/circle/3115.png', 'circle'],\n",
      " ['./shapes/star/3116.png', 'star'],\n",
      " ['./shapes/triangle/3117.png', 'triangle'],\n",
      " ['./shapes/square/3118.png', 'square'],\n",
      " ['./shapes/circle/3119.png', 'circle'],\n",
      " ['./shapes/star/3120.png', 'star'],\n",
      " ['./shapes/triangle/3121.png', 'triangle'],\n",
      " ['./shapes/square/3122.png', 'square'],\n",
      " ['./shapes/circle/3123.png', 'circle'],\n",
      " ['./shapes/star/3124.png', 'star'],\n",
      " ['./shapes/triangle/3125.png', 'triangle'],\n",
      " ['./shapes/square/3126.png', 'square'],\n",
      " ['./shapes/circle/3127.png', 'circle'],\n",
      " ['./shapes/star/3128.png', 'star'],\n",
      " ['./shapes/triangle/3129.png', 'triangle'],\n",
      " ['./shapes/square/3130.png', 'square'],\n",
      " ['./shapes/circle/3131.png', 'circle'],\n",
      " ['./shapes/star/3132.png', 'star'],\n",
      " ['./shapes/triangle/3133.png', 'triangle'],\n",
      " ['./shapes/square/3134.png', 'square'],\n",
      " ['./shapes/circle/3135.png', 'circle'],\n",
      " ['./shapes/star/3136.png', 'star'],\n",
      " ['./shapes/triangle/3137.png', 'triangle'],\n",
      " ['./shapes/square/3138.png', 'square'],\n",
      " ['./shapes/circle/3139.png', 'circle'],\n",
      " ['./shapes/star/3140.png', 'star'],\n",
      " ['./shapes/triangle/3141.png', 'triangle'],\n",
      " ['./shapes/square/3142.png', 'square'],\n",
      " ['./shapes/circle/3143.png', 'circle'],\n",
      " ['./shapes/star/3144.png', 'star'],\n",
      " ['./shapes/triangle/3145.png', 'triangle'],\n",
      " ['./shapes/square/3146.png', 'square'],\n",
      " ['./shapes/circle/3147.png', 'circle'],\n",
      " ['./shapes/star/3148.png', 'star'],\n",
      " ['./shapes/triangle/3149.png', 'triangle'],\n",
      " ['./shapes/square/3150.png', 'square'],\n",
      " ['./shapes/circle/3151.png', 'circle'],\n",
      " ['./shapes/star/3152.png', 'star'],\n",
      " ['./shapes/triangle/3153.png', 'triangle'],\n",
      " ['./shapes/square/3154.png', 'square'],\n",
      " ['./shapes/circle/3155.png', 'circle'],\n",
      " ['./shapes/star/3156.png', 'star'],\n",
      " ['./shapes/triangle/3157.png', 'triangle'],\n",
      " ['./shapes/square/3158.png', 'square'],\n",
      " ['./shapes/circle/3159.png', 'circle'],\n",
      " ['./shapes/star/3160.png', 'star'],\n",
      " ['./shapes/triangle/3161.png', 'triangle'],\n",
      " ['./shapes/square/3162.png', 'square'],\n",
      " ['./shapes/circle/3163.png', 'circle'],\n",
      " ['./shapes/star/3164.png', 'star'],\n",
      " ['./shapes/triangle/3165.png', 'triangle'],\n",
      " ['./shapes/square/3166.png', 'square'],\n",
      " ['./shapes/circle/3167.png', 'circle'],\n",
      " ['./shapes/star/3168.png', 'star'],\n",
      " ['./shapes/triangle/3169.png', 'triangle'],\n",
      " ['./shapes/square/3170.png', 'square'],\n",
      " ['./shapes/circle/3171.png', 'circle'],\n",
      " ['./shapes/star/3172.png', 'star'],\n",
      " ['./shapes/triangle/3173.png', 'triangle'],\n",
      " ['./shapes/square/3174.png', 'square'],\n",
      " ['./shapes/circle/3175.png', 'circle'],\n",
      " ['./shapes/star/3176.png', 'star'],\n",
      " ['./shapes/triangle/3177.png', 'triangle'],\n",
      " ['./shapes/square/3178.png', 'square'],\n",
      " ['./shapes/circle/3179.png', 'circle'],\n",
      " ['./shapes/star/3180.png', 'star'],\n",
      " ['./shapes/triangle/3181.png', 'triangle'],\n",
      " ['./shapes/square/3182.png', 'square'],\n",
      " ['./shapes/circle/3183.png', 'circle'],\n",
      " ['./shapes/star/3184.png', 'star'],\n",
      " ['./shapes/triangle/3185.png', 'triangle'],\n",
      " ['./shapes/square/3186.png', 'square'],\n",
      " ['./shapes/circle/3187.png', 'circle'],\n",
      " ['./shapes/star/3188.png', 'star'],\n",
      " ['./shapes/triangle/3189.png', 'triangle'],\n",
      " ['./shapes/square/3190.png', 'square'],\n",
      " ['./shapes/circle/3191.png', 'circle'],\n",
      " ['./shapes/star/3192.png', 'star'],\n",
      " ['./shapes/triangle/3193.png', 'triangle'],\n",
      " ['./shapes/square/3194.png', 'square'],\n",
      " ['./shapes/circle/3195.png', 'circle'],\n",
      " ['./shapes/star/3196.png', 'star'],\n",
      " ['./shapes/triangle/3197.png', 'triangle'],\n",
      " ['./shapes/square/3198.png', 'square'],\n",
      " ['./shapes/circle/3199.png', 'circle'],\n",
      " ['./shapes/star/3200.png', 'star'],\n",
      " ['./shapes/triangle/3201.png', 'triangle'],\n",
      " ['./shapes/square/3202.png', 'square'],\n",
      " ['./shapes/circle/3203.png', 'circle'],\n",
      " ['./shapes/star/3204.png', 'star'],\n",
      " ['./shapes/triangle/3205.png', 'triangle'],\n",
      " ['./shapes/square/3206.png', 'square'],\n",
      " ['./shapes/circle/3207.png', 'circle'],\n",
      " ['./shapes/star/3208.png', 'star'],\n",
      " ['./shapes/triangle/3209.png', 'triangle'],\n",
      " ['./shapes/square/3210.png', 'square'],\n",
      " ['./shapes/circle/3211.png', 'circle'],\n",
      " ['./shapes/star/3212.png', 'star'],\n",
      " ['./shapes/triangle/3213.png', 'triangle'],\n",
      " ['./shapes/square/3214.png', 'square'],\n",
      " ['./shapes/circle/3215.png', 'circle'],\n",
      " ['./shapes/star/3216.png', 'star'],\n",
      " ['./shapes/triangle/3217.png', 'triangle'],\n",
      " ['./shapes/square/3218.png', 'square'],\n",
      " ['./shapes/circle/3219.png', 'circle'],\n",
      " ['./shapes/star/3220.png', 'star'],\n",
      " ['./shapes/triangle/3221.png', 'triangle'],\n",
      " ['./shapes/square/3222.png', 'square'],\n",
      " ['./shapes/circle/3223.png', 'circle'],\n",
      " ['./shapes/star/3224.png', 'star'],\n",
      " ['./shapes/triangle/3225.png', 'triangle'],\n",
      " ['./shapes/square/3226.png', 'square'],\n",
      " ['./shapes/circle/3227.png', 'circle'],\n",
      " ['./shapes/star/3228.png', 'star'],\n",
      " ['./shapes/triangle/3229.png', 'triangle'],\n",
      " ['./shapes/square/3230.png', 'square'],\n",
      " ['./shapes/circle/3231.png', 'circle'],\n",
      " ['./shapes/star/3232.png', 'star'],\n",
      " ['./shapes/triangle/3233.png', 'triangle'],\n",
      " ['./shapes/square/3234.png', 'square'],\n",
      " ['./shapes/circle/3235.png', 'circle'],\n",
      " ['./shapes/star/3236.png', 'star'],\n",
      " ['./shapes/triangle/3237.png', 'triangle'],\n",
      " ['./shapes/square/3238.png', 'square'],\n",
      " ['./shapes/circle/3239.png', 'circle'],\n",
      " ['./shapes/star/3240.png', 'star'],\n",
      " ['./shapes/triangle/3241.png', 'triangle'],\n",
      " ['./shapes/square/3242.png', 'square'],\n",
      " ['./shapes/circle/3243.png', 'circle'],\n",
      " ['./shapes/star/3244.png', 'star'],\n",
      " ['./shapes/triangle/3245.png', 'triangle'],\n",
      " ['./shapes/square/3246.png', 'square'],\n",
      " ['./shapes/circle/3247.png', 'circle'],\n",
      " ['./shapes/star/3248.png', 'star'],\n",
      " ['./shapes/triangle/3249.png', 'triangle'],\n",
      " ['./shapes/square/3250.png', 'square']]\n"
     ]
    }
   ],
   "source": [
    "# Normalize prediction and associate best guess with category\n",
    "for i in range(len(prediction)):\n",
    "    prediction[i] /= sum(prediction[i])\n",
    "    maxVal = 0\n",
    "    for j in range(len(prediction[i])):\n",
    "        if (prediction[i][j] > maxVal):\n",
    "            maxVal = prediction[i][j]\n",
    "            index = j\n",
    "    output[i][1] = (shape[index])\n",
    "    \n",
    "pp.pprint(output)"
   ]
  },
  {
   "cell_type": "code",
   "execution_count": 9,
   "metadata": {},
   "outputs": [
    {
     "data": {
      "text/plain": [
       "(200, 200)"
      ]
     },
     "execution_count": 9,
     "metadata": {},
     "output_type": "execute_result"
    }
   ],
   "source": [
    "m = np.array(Image.open('./shapes/validation/star_1.jpg').resize((200,200)).convert(mode=\"L\"), dtype='float32')\n",
    "m.shape"
   ]
  },
  {
   "cell_type": "code",
   "execution_count": 10,
   "metadata": {},
   "outputs": [
    {
     "data": {
      "text/plain": [
       "array([[0.01388108, 0.03340187, 0.01105109, 0.05033042]], dtype=float32)"
      ]
     },
     "execution_count": 10,
     "metadata": {},
     "output_type": "execute_result"
    }
   ],
   "source": [
    "m = m.reshape((1,200,200,1))\n",
    "model.predict(m)"
   ]
  },
  {
   "cell_type": "code",
   "execution_count": 8,
   "metadata": {},
   "outputs": [],
   "source": [
    "# Image.open(\"./shapes/validation/star_1.png\").resize((200,200)).convert(mode='L').save('./shapes/validation/star_1.jpg')"
   ]
  }
 ],
 "metadata": {
  "kernelspec": {
   "display_name": "Python 3",
   "language": "python",
   "name": "python3"
  },
  "language_info": {
   "codemirror_mode": {
    "name": "ipython",
    "version": 3
   },
   "file_extension": ".py",
   "mimetype": "text/x-python",
   "name": "python",
   "nbconvert_exporter": "python",
   "pygments_lexer": "ipython3",
   "version": "3.6.8"
  }
 },
 "nbformat": 4,
 "nbformat_minor": 2
}
